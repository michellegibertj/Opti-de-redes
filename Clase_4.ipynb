{
  "cells": [
    {
      "cell_type": "code",
      "execution_count": 1,
      "id": "2d8575e9",
      "metadata": {
        "id": "2d8575e9",
        "outputId": "017b017f-fe00-4174-a588-1fba83d744ab",
        "colab": {
          "base_uri": "https://localhost:8080/"
        }
      },
      "outputs": [
        {
          "output_type": "stream",
          "name": "stdout",
          "text": [
            "Collecting gurobipy\n",
            "  Downloading gurobipy-12.0.3-cp312-cp312-manylinux2014_x86_64.manylinux_2_17_x86_64.whl.metadata (16 kB)\n",
            "Downloading gurobipy-12.0.3-cp312-cp312-manylinux2014_x86_64.manylinux_2_17_x86_64.whl (14.3 MB)\n",
            "\u001b[2K   \u001b[90m━━━━━━━━━━━━━━━━━━━━━━━━━━━━━━━━━━━━━━━━\u001b[0m \u001b[32m14.3/14.3 MB\u001b[0m \u001b[31m40.7 MB/s\u001b[0m eta \u001b[36m0:00:00\u001b[0m\n",
            "\u001b[?25hInstalling collected packages: gurobipy\n",
            "Successfully installed gurobipy-12.0.3\n"
          ]
        }
      ],
      "source": [
        "# Instalar librerías\n",
        "!pip install gurobipy"
      ]
    },
    {
      "cell_type": "code",
      "execution_count": 18,
      "id": "8d05cb9c",
      "metadata": {
        "id": "8d05cb9c"
      },
      "outputs": [],
      "source": [
        "from itertools import combinations\n",
        "import numpy as np\n",
        "import pandas as pd\n",
        "# Importar librerías de gurobi\n",
        "import gurobipy as gp\n",
        "from gurobipy import GRB"
      ]
    },
    {
      "cell_type": "markdown",
      "source": [
        "## Problema a)"
      ],
      "metadata": {
        "id": "iv5S3yPXc4o3"
      },
      "id": "iv5S3yPXc4o3"
    },
    {
      "cell_type": "code",
      "source": [
        "# Matriz de restricciones\n",
        "A = np.array([[ 6.0,  9.0, 26.0, 1.0, 0.0],\n",
        "              [3.0, 2.0, -26.0, 0.0, 1.0],])\n",
        "m, n = A.shape # m: restricciones, n: variables\n",
        "\n",
        "# Vector del lado derecho\n",
        "b = np.array([26, 20])\n",
        "\n",
        "# Función objetivo\n",
        "c = np.array([3.0, 1.0, 31.0, 0.0, 0.0])\n",
        "\n",
        "# Enumerar combinaciones de variables básicas\n",
        "variables_idx = range(n)\n",
        "BFS_posibles = list(combinations(variables_idx, m))\n",
        "\n",
        "BFS = []\n",
        "for sol_idx in BFS_posibles:\n",
        "    B  = A[:, sol_idx]         # Extraigo solo las columnas de las variables básicas\n",
        "    xB = np.linalg.solve(B, b) # Resuelvo el sistema de ecuaciones\n",
        "                               # para las variables básicas\n",
        "    # Si la solución es positiva, entonces es una BFS\n",
        "    if np.all(xB >= 0):\n",
        "        x_full  = np.zeros(5)\n",
        "        x_full[list(sol_idx)] = xB\n",
        "        BFS.append(x_full) # La añado a la lista de BFS\n",
        "\n",
        "BFS = np.array(BFS)\n",
        "\n",
        "print(f\"Número de BFS: {BFS.shape[0]}\")\n",
        "print(BFS)\n",
        "\n",
        "# Evaluar función objetivo\n",
        "valores_obj = BFS @ c\n",
        "\n",
        "ix_opt  = np.argmax(valores_obj)\n",
        "max_opt = valores_obj[ix_opt]\n",
        "\n",
        "print(f\"\\nValor óptimo: {max_opt}\")\n",
        "print(f\"Solución óptima encontrada: {BFS[ix_opt]}\")"
      ],
      "metadata": {
        "id": "b13qkLsPddTe",
        "outputId": "4b13384b-70f2-4a1f-e40d-45cd3729deb8",
        "colab": {
          "base_uri": "https://localhost:8080/"
        }
      },
      "id": "b13qkLsPddTe",
      "execution_count": 19,
      "outputs": [
        {
          "output_type": "stream",
          "name": "stdout",
          "text": [
            "Número de BFS: 4\n",
            "[[ 4.33333333  0.          0.          0.          7.        ]\n",
            " [ 0.          2.88888889  0.          0.         14.22222222]\n",
            " [ 0.          0.          1.          0.         46.        ]\n",
            " [ 0.          0.          0.         26.         20.        ]]\n",
            "\n",
            "Valor óptimo: 31.0\n",
            "Solución óptima encontrada: [ 0.  0.  1.  0. 46.]\n"
          ]
        }
      ]
    },
    {
      "cell_type": "markdown",
      "id": "c27ed5f6",
      "metadata": {
        "id": "c27ed5f6"
      },
      "source": [
        "## Problema b)\n",
        "\n",
        "\n"
      ]
    },
    {
      "cell_type": "code",
      "execution_count": 10,
      "id": "d6e320c3",
      "metadata": {
        "colab": {
          "base_uri": "https://localhost:8080/"
        },
        "id": "d6e320c3",
        "outputId": "61f704c6-2dee-46ee-d612-e64a178534f3"
      },
      "outputs": [
        {
          "output_type": "stream",
          "name": "stdout",
          "text": [
            "Gurobi Optimizer version 12.0.3 build v12.0.3rc0 (linux64 - \"Ubuntu 22.04.4 LTS\")\n",
            "\n",
            "CPU model: Intel(R) Xeon(R) CPU @ 2.20GHz, instruction set [SSE2|AVX|AVX2]\n",
            "Thread count: 1 physical cores, 2 logical processors, using up to 2 threads\n",
            "\n",
            "Optimize a model with 2 rows, 3 columns and 6 nonzeros\n",
            "Model fingerprint: 0xa313b41e\n",
            "Coefficient statistics:\n",
            "  Matrix range     [2e+00, 3e+01]\n",
            "  Objective range  [1e+00, 3e+01]\n",
            "  Bounds range     [1e+06, 1e+06]\n",
            "  RHS range        [2e+01, 3e+01]\n",
            "Presolve removed 2 rows and 3 columns\n",
            "Presolve time: 0.01s\n",
            "Presolve: All rows and columns removed\n",
            "Iteration    Objective       Primal Inf.    Dual Inf.      Time\n",
            "       0    3.1000000e+01   0.000000e+00   0.000000e+00      0s\n",
            "\n",
            "Solved in 0 iterations and 0.01 seconds (0.00 work units)\n",
            "Optimal objective  3.100000000e+01\n"
          ]
        }
      ],
      "source": [
        "# Crear el modelo\n",
        "m = gp.Model(\"LP_Taller 2\")\n",
        "\n",
        "# Crear variables\n",
        "x1 = m.addVar(lb=0.0, ub = 1e6, name=\"x1\") # Limite superior muy grande\n",
        "x2 = m.addVar(lb=0.0, ub = 1e6, name=\"x2\")\n",
        "x3 = m.addVar(lb=0.0, ub = 1e6, name=\"x3\")\n",
        "m.update()\n",
        "\n",
        "# Crear restricciones\n",
        "restriccion1 = m.addConstr(6*x1 + 9*x2 + 26*x3 <= 26,  name = \"c1\")\n",
        "restriccion2 = m.addConstr(3*x1 + 2*x2 - 26*x3 <=20,  name = \"c2\")\n",
        "\n",
        "# Crear funcion objetivo\n",
        "m.setObjective(3*x1 + x2 + 31*x3, GRB.MAXIMIZE)\n",
        "\n",
        "# Optimizar modelo\n",
        "m.optimize()"
      ]
    },
    {
      "cell_type": "code",
      "execution_count": 11,
      "id": "2ae7e325",
      "metadata": {
        "colab": {
          "base_uri": "https://localhost:8080/"
        },
        "id": "2ae7e325",
        "outputId": "19facce8-e218-476d-909e-1377004b2462"
      },
      "outputs": [
        {
          "output_type": "stream",
          "name": "stdout",
          "text": [
            "\n",
            "Obj: 31.0\n",
            "x1: 0.0\n",
            "x2: 0.0\n"
          ]
        }
      ],
      "source": [
        "# Imprimir resultados\n",
        "print(f\"\\nObj: {m.ObjVal}\")\n",
        "print(f\"x1: {x1.X}\")\n",
        "print(f\"x2: {x2.X}\")"
      ]
    },
    {
      "cell_type": "code",
      "source": [
        "print(f\"SP c1: {restriccion1.Pi}\")\n",
        "print(f\"SP c2: {restriccion2.Pi}\")"
      ],
      "metadata": {
        "id": "dose6mJYYeQ-",
        "outputId": "7ad66637-95c6-425e-933f-c168398f7e61",
        "colab": {
          "base_uri": "https://localhost:8080/"
        }
      },
      "id": "dose6mJYYeQ-",
      "execution_count": 13,
      "outputs": [
        {
          "output_type": "stream",
          "name": "stdout",
          "text": [
            "SP c1: 1.1923076923076923\n",
            "SP c2: 0.0\n"
          ]
        }
      ]
    },
    {
      "cell_type": "markdown",
      "source": [
        "## Problema c)"
      ],
      "metadata": {
        "id": "0xtjFJxjdhBu"
      },
      "id": "0xtjFJxjdhBu"
    },
    {
      "cell_type": "code",
      "source": [
        "# Crear el modelo\n",
        "primal1 = gp.Model(\"LP_Taller2_p1\")\n",
        "\n",
        "# Crear variables\n",
        "x1 = primal1.addVar(lb=0.0, ub = 1e6, name=\"x1\") # Límite superior muy grande\n",
        "x2 = primal1.addVar(lb=0.0, ub = 1e6, name=\"x2\")\n",
        "x3 = primal1.addVar(lb=0.0, ub = 1e6, name=\"x3\")\n",
        "primal1.update()\n",
        "\n",
        "# Crear restricciones\n",
        "restriccion11 = primal1.addConstr( 6*x1 + 9*x2 + 26*x3 <= 26,  name = \"c1\")\n",
        "restriccion21 = primal1.addConstr( 3*x1 + 2*x2 - 26*x3 <= 20,  name = \"c2\")\n",
        "\n",
        "# Crear función objetivo\n",
        "primal1.setObjective( 3*x1 + x2 + 31*x3, GRB.MAXIMIZE )\n",
        "\n",
        "# Optimizar modelo\n",
        "primal1.optimize()"
      ],
      "metadata": {
        "id": "rLyNazbGdQU3",
        "outputId": "91255827-01c7-4a4c-9bbf-c092eacae16d",
        "colab": {
          "base_uri": "https://localhost:8080/"
        }
      },
      "id": "rLyNazbGdQU3",
      "execution_count": 20,
      "outputs": [
        {
          "output_type": "stream",
          "name": "stdout",
          "text": [
            "Gurobi Optimizer version 12.0.3 build v12.0.3rc0 (linux64 - \"Ubuntu 22.04.4 LTS\")\n",
            "\n",
            "CPU model: Intel(R) Xeon(R) CPU @ 2.20GHz, instruction set [SSE2|AVX|AVX2]\n",
            "Thread count: 1 physical cores, 2 logical processors, using up to 2 threads\n",
            "\n",
            "Optimize a model with 2 rows, 3 columns and 6 nonzeros\n",
            "Model fingerprint: 0xa313b41e\n",
            "Coefficient statistics:\n",
            "  Matrix range     [2e+00, 3e+01]\n",
            "  Objective range  [1e+00, 3e+01]\n",
            "  Bounds range     [1e+06, 1e+06]\n",
            "  RHS range        [2e+01, 3e+01]\n",
            "Presolve removed 2 rows and 3 columns\n",
            "Presolve time: 0.01s\n",
            "Presolve: All rows and columns removed\n",
            "Iteration    Objective       Primal Inf.    Dual Inf.      Time\n",
            "       0    3.1000000e+01   0.000000e+00   0.000000e+00      0s\n",
            "\n",
            "Solved in 0 iterations and 0.01 seconds (0.00 work units)\n",
            "Optimal objective  3.100000000e+01\n"
          ]
        }
      ]
    },
    {
      "cell_type": "code",
      "source": [
        "# Crear el modelo\n",
        "primal2 = gp.Model(\"LP_Taller2_p2\")\n",
        "\n",
        "# Crear variables\n",
        "x1 = primal2.addVar(lb=0.0, ub = 1e6, name=\"x1\") # Límite superior muy grande\n",
        "x2 = primal2.addVar(lb=0.0, ub = 1e6, name=\"x2\")\n",
        "x3 = primal2.addVar(lb=0.0, ub = 1e6, name=\"x3\")\n",
        "primal2.update()\n",
        "\n",
        "# Crear restricciones\n",
        "restriccion12 = primal2.addConstr( 6*x1 + 9*x2 + 26*x3 <= 27,  name = \"c1\")\n",
        "restriccion21 = primal2.addConstr( 3*x1 + 2*x2 - 26*x3 <= 20,  name = \"c2\")\n",
        "\n",
        "# Crear función objetivo\n",
        "primal2.setObjective( 3*x1 + x2 + 31*x3, GRB.MAXIMIZE )\n",
        "\n",
        "# Optimizar modelo\n",
        "primal2.optimize()"
      ],
      "metadata": {
        "id": "kPxqjrxTdT5q",
        "outputId": "1525c3a2-7a30-482c-ec13-45e5ea015e4a",
        "colab": {
          "base_uri": "https://localhost:8080/"
        }
      },
      "id": "kPxqjrxTdT5q",
      "execution_count": 21,
      "outputs": [
        {
          "output_type": "stream",
          "name": "stdout",
          "text": [
            "Gurobi Optimizer version 12.0.3 build v12.0.3rc0 (linux64 - \"Ubuntu 22.04.4 LTS\")\n",
            "\n",
            "CPU model: Intel(R) Xeon(R) CPU @ 2.20GHz, instruction set [SSE2|AVX|AVX2]\n",
            "Thread count: 1 physical cores, 2 logical processors, using up to 2 threads\n",
            "\n",
            "Optimize a model with 2 rows, 3 columns and 6 nonzeros\n",
            "Model fingerprint: 0x52d91ace\n",
            "Coefficient statistics:\n",
            "  Matrix range     [2e+00, 3e+01]\n",
            "  Objective range  [1e+00, 3e+01]\n",
            "  Bounds range     [1e+06, 1e+06]\n",
            "  RHS range        [2e+01, 3e+01]\n",
            "Presolve removed 2 rows and 3 columns\n",
            "Presolve time: 0.00s\n",
            "Presolve: All rows and columns removed\n",
            "Iteration    Objective       Primal Inf.    Dual Inf.      Time\n",
            "       0    3.2192308e+01   0.000000e+00   0.000000e+00      0s\n",
            "\n",
            "Solved in 0 iterations and 0.01 seconds (0.00 work units)\n",
            "Optimal objective  3.219230769e+01\n"
          ]
        }
      ]
    },
    {
      "cell_type": "code",
      "source": [
        "print((primal2.getAttr(\"X\", primal2.getVars())))\n",
        "print(f\"Slack restricción 1: {restriccion12.Slack}\")\n",
        "print(f\"Slack restricción 2: {restriccion21.Slack}\")\n",
        "print(f\"Resultados del modelo primal 1:{primal1.ObjVal}\")\n",
        "print(f\"Resultados del modelo primal 2:{primal2.ObjVal}\")\n",
        "print(f'Diferencia entre los valores óptimos: {primal2.ObjVal - primal1.ObjVal}')\n",
        "print(f'Shadow Price de la restricción 1: {restriccion12.Pi}')"
      ],
      "metadata": {
        "id": "uPLajORsdqmj",
        "outputId": "5692a003-d0e8-429d-f8bc-ac2ade80c4eb",
        "colab": {
          "base_uri": "https://localhost:8080/"
        }
      },
      "id": "uPLajORsdqmj",
      "execution_count": 22,
      "outputs": [
        {
          "output_type": "stream",
          "name": "stdout",
          "text": [
            "[0.0, 0.0, 1.0384615384615385]\n",
            "Slack restricción 1: 0.0\n",
            "Slack restricción 2: 47.0\n",
            "Resultados del modelo primal 1:31.0\n",
            "Resultados del modelo primal 2:32.19230769230769\n",
            "Diferencia entre los valores óptimos: 1.1923076923076934\n",
            "Shadow Price de la restricción 1: 1.1923076923076923\n"
          ]
        }
      ]
    },
    {
      "cell_type": "markdown",
      "source": [
        "## Problema d)\n",
        "\n",
        "\n"
      ],
      "metadata": {
        "id": "HIRhJqQpa_fq"
      },
      "id": "HIRhJqQpa_fq"
    },
    {
      "cell_type": "code",
      "source": [
        "# Crear el modelo dual\n",
        "dual = gp.Model(\"Dual_Taller 2\")\n",
        "\n",
        "# Crear variables duales (una por cada restriccion del primal)\n",
        "y1 = dual.addVar(lb=0.0, ub = 1e6, name=\"y1\")\n",
        "y2 = dual.addVar(lb=0.0, ub = 1e6, name=\"y2\")\n",
        "y3 = dual.addVar(lb=0.0, ub = 1e6, name=\"y2\")\n",
        "dual.update()\n",
        "\n",
        "# Restricciones duales (una por cada variable primal)\n",
        "dual.addConstr(6*y1 + 3*y2  >= 3, name=\"dual_c1\")\n",
        "dual.addConstr(9*y1 + 2*y2  >= 1, name=\"dual_c2\")\n",
        "dual.addConstr(26*y1 - 26*y2  >= 31, name=\"dual_c3\")\n",
        "\n",
        "# Funcion objetivo (minimizar porque el primal maximiza)\n",
        "dual.setObjective(26*y1 + 20*y2, GRB.MINIMIZE)\n",
        "\n",
        "# Optimizar modelo dual\n",
        "dual.optimize()"
      ],
      "metadata": {
        "id": "URGBh2gpbIr3",
        "outputId": "7fff05a3-721b-4d11-92e8-11c184500878",
        "colab": {
          "base_uri": "https://localhost:8080/"
        }
      },
      "id": "URGBh2gpbIr3",
      "execution_count": 15,
      "outputs": [
        {
          "output_type": "stream",
          "name": "stdout",
          "text": [
            "Gurobi Optimizer version 12.0.3 build v12.0.3rc0 (linux64 - \"Ubuntu 22.04.4 LTS\")\n",
            "\n",
            "CPU model: Intel(R) Xeon(R) CPU @ 2.20GHz, instruction set [SSE2|AVX|AVX2]\n",
            "Thread count: 1 physical cores, 2 logical processors, using up to 2 threads\n",
            "\n",
            "Optimize a model with 3 rows, 3 columns and 6 nonzeros\n",
            "Model fingerprint: 0xe2e56c60\n",
            "Coefficient statistics:\n",
            "  Matrix range     [2e+00, 3e+01]\n",
            "  Objective range  [2e+01, 3e+01]\n",
            "  Bounds range     [1e+06, 1e+06]\n",
            "  RHS range        [1e+00, 3e+01]\n",
            "Presolve removed 3 rows and 3 columns\n",
            "Presolve time: 0.01s\n",
            "Presolve: All rows and columns removed\n",
            "Iteration    Objective       Primal Inf.    Dual Inf.      Time\n",
            "       0    3.1000000e+01   0.000000e+00   0.000000e+00      0s\n",
            "\n",
            "Solved in 0 iterations and 0.01 seconds (0.00 work units)\n",
            "Optimal objective  3.100000000e+01\n"
          ]
        }
      ]
    },
    {
      "cell_type": "code",
      "execution_count": 16,
      "metadata": {
        "id": "0efb5a5e",
        "outputId": "3e57a183-9d78-43e3-e57f-6467547e73fd",
        "colab": {
          "base_uri": "https://localhost:8080/"
        }
      },
      "outputs": [
        {
          "output_type": "stream",
          "name": "stdout",
          "text": [
            "\n",
            "Obj dual: 31.0000\n",
            "y1: 1.1923\n",
            "y2: 0.0000\n",
            "y3: 0.0000\n"
          ]
        }
      ],
      "source": [
        "# Imprimir resultados duales\n",
        "print(f\"\\nObj dual: {dual.ObjVal:.4f}\")\n",
        "print(f\"y1: {y1.X:.4f}\")\n",
        "print(f\"y2: {y2.X:.4f}\")\n",
        "print(f\"y3: {y3.X:.4f}\")"
      ],
      "id": "0efb5a5e"
    },
    {
      "cell_type": "markdown",
      "source": [
        "Comparación"
      ],
      "metadata": {
        "id": "uMar3qpRcrhs"
      },
      "id": "uMar3qpRcrhs"
    },
    {
      "cell_type": "code",
      "execution_count": 17,
      "metadata": {
        "id": "c40d7428",
        "outputId": "95e6f994-3f6c-45fe-db92-370c10cc3eaf",
        "colab": {
          "base_uri": "https://localhost:8080/"
        }
      },
      "outputs": [
        {
          "output_type": "stream",
          "name": "stdout",
          "text": [
            "Solución Primal:\n",
            "  Objetivo Primal: 31.0000\n",
            "  x1: 0.0000\n",
            "  x2: 0.0000\n",
            "\n",
            "Solución Dual:\n",
            "  Objetivo Dual: 31.0000\n",
            "  y1: 1.1923\n",
            "  y2: 0.0000\n",
            "  y3: 0.0000\n",
            "\n",
            "Condiciones KKT (complementariedad):\n",
            "  Restricción 1: slack primal = 0.0000, y1 (variable dual) = 1.1923, producto = 0.0000\n",
            "  Restricción 2: slack primal = 46.0000, y2 (variable dual) = 0.0000, producto = 0.0000\n"
          ]
        }
      ],
      "source": [
        "print(\"Solución Primal:\")\n",
        "print(f\"  Objetivo Primal: {m.ObjVal:.4f}\")\n",
        "print(f\"  x1: {x1.X:.4f}\")\n",
        "print(f\"  x2: {x2.X:.4f}\")\n",
        "\n",
        "print(\"\\nSolución Dual:\")\n",
        "print(f\"  Objetivo Dual: {dual.ObjVal:.4f}\")\n",
        "print(f\"  y1: {y1.X:.4f}\")\n",
        "print(f\"  y2: {y2.X:.4f}\")\n",
        "print(f\"  y3: {y3.X:.4f}\")\n",
        "# Notar que los valores óptimos del problema primal y dual son iguales,\n",
        "# lo que confirma la dualidad fuerte.\n",
        "\n",
        "print(\"\\nCondiciones KKT (complementariedad):\")\n",
        "print(f\"  Restricción 1: slack primal = {restriccion1.Slack:.4f}, y1 (variable dual) = {y1.X:.4f}, producto = {restriccion1.Slack * y1.X:.4f}\")\n",
        "print(f\"  Restricción 2: slack primal = {restriccion2.Slack:.4f}, y2 (variable dual) = {y2.X:.4f}, producto = {restriccion2.Slack * y2.X:.4f}\")\n",
        "# Se verifica el teorema de complementariedad de holguras (todos los productos son cero)"
      ],
      "id": "c40d7428"
    }
  ],
  "metadata": {
    "kernelspec": {
      "display_name": "MetabolicNetworks",
      "language": "python",
      "name": "python3"
    },
    "language_info": {
      "codemirror_mode": {
        "name": "ipython",
        "version": 3
      },
      "file_extension": ".py",
      "mimetype": "text/x-python",
      "name": "python",
      "nbconvert_exporter": "python",
      "pygments_lexer": "ipython3",
      "version": "3.13.5"
    },
    "colab": {
      "provenance": []
    }
  },
  "nbformat": 4,
  "nbformat_minor": 5
}